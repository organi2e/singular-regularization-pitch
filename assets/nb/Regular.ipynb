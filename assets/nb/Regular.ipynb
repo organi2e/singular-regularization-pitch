{
 "cells": [
  {
   "cell_type": "code",
   "execution_count": 38,
   "metadata": {},
   "outputs": [],
   "source": [
    "from tensorflow.keras.layers import Dense\n",
    "class RegDense(Dense):\n",
    "    def __init__(self, units, **kwargs):\n",
    "        super().__init__(units, **kwargs)\n",
    "        \n",
    "    def build(self, input_shape):\n",
    "        from tensorflow import linalg, transpose\n",
    "        super().build(input_shape)\n",
    "        _, u, v = linalg.svd(self.kernel, compute_uv=True)\n",
    "        self.kernel.assign(u @ transpose(v))\n",
    "    \n",
    "    @property\n",
    "    def loss(self):\n",
    "        from tensorflow import matmul, linalg, square, reduce_mean\n",
    "        w = self.kernel\n",
    "        s = w.shape\n",
    "        c = matmul(w, w, **{\"transpose_\" + (\"b\" if s[1] > s[0] else \"a\"): True})\n",
    "        b = 0.0 if self.bias is None else reduce_mean(square(self.bias))\n",
    "        return b + ( linalg.trace(c) - linalg.logdet(c) ) / c.shape[0] - 1\n",
    "    \n",
    "    def call(self, inputs, training=None):\n",
    "        self.add_loss(0.0 if training is None else self.loss)\n",
    "        return super().call(inputs)"
   ]
  },
  {
   "cell_type": "code",
   "execution_count": 40,
   "metadata": {},
   "outputs": [],
   "source": [
    "from tensorflow.keras.layers import Conv2D\n",
    "class RegConv2D(Conv2D):\n",
    "    def __init__(self, filters, kernel_size, **kwargs):\n",
    "        super().__init__(filters, kernel_size, **kwargs)\n",
    "        \n",
    "    def build(self, input_shape):\n",
    "        from tensorflow import reshape, linalg, transpose\n",
    "        from functools import reduce\n",
    "        from operator import mul\n",
    "        super().build(input_shape)\n",
    "        _, u, v = linalg.svd(self.kmat)\n",
    "        self.kernel.assign(reshape(u @ transpose(v), self.kernel.shape))\n",
    "    \n",
    "    @property\n",
    "    def kmat(self):\n",
    "        from tensorflow import reshape\n",
    "        from functools import reduce\n",
    "        from operator import mul\n",
    "        w = self.kernel\n",
    "        m = reshape(w, (reduce(mul, w.shape[:-1]), w.shape[-1]))\n",
    "        return m\n",
    "    \n",
    "    @property\n",
    "    def loss(self):        \n",
    "        from tensorflow import matmul, linalg, square, reduce_mean\n",
    "        w = self.kmat\n",
    "        s = w.shape\n",
    "        c = matmul(w, w, **{\"transpose_\" + (\"b\" if s[1] > s[0] else \"a\"): True})\n",
    "        b = 0.0 if self.bias is None else reduce_mean(square(self.bias))\n",
    "        return b + ( linalg.trace(c) - linalg.logdet(c) ) / c.shape[0] - 1\n",
    "        \n",
    "    def call(self, inputs, training=None):\n",
    "        self.add_loss(0.0 if training is None else self.loss)\n",
    "        return super().call(inputs)"
   ]
  }
 ],
 "metadata": {
  "kernelspec": {
   "display_name": "Python 3",
   "language": "python",
   "name": "python3"
  },
  "language_info": {
   "codemirror_mode": {
    "name": "ipython",
    "version": 3
   },
   "file_extension": ".py",
   "mimetype": "text/x-python",
   "name": "python",
   "nbconvert_exporter": "python",
   "pygments_lexer": "ipython3",
   "version": "3.7.5"
  }
 },
 "nbformat": 4,
 "nbformat_minor": 2
}
